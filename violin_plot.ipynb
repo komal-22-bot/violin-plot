{
 "cells": [
  {
   "cell_type": "code",
   "execution_count": 1,
   "id": "f7acae68-38e2-4fbd-b402-14c57dfc75b0",
   "metadata": {},
   "outputs": [],
   "source": [
    "import pandas as pd\n",
    "import seaborn as sns\n",
    "import matplotlib.pyplot as plt\n",
    "from datetime import datetime\n",
    "import pytz"
   ]
  },
  {
   "cell_type": "code",
   "execution_count": 2,
   "id": "3ece7505-028c-4260-9426-2552d2eb0c1a",
   "metadata": {},
   "outputs": [],
   "source": [
    "df = pd.read_csv('violin_plot.csv')"
   ]
  },
  {
   "cell_type": "code",
   "execution_count": 3,
   "id": "1ca6bf77-1a56-450f-a08e-45a9f20e872e",
   "metadata": {},
   "outputs": [],
   "source": [
    "df['Reviews'] = pd.to_numeric(df['Reviews'], errors='coerce')\n",
    "filtered_df = df[\n",
    "    df['App'].str.contains('c', case=False, na=False) & \n",
    "    (df['Reviews'] > 10) &                               \n",
    "    (df['Rating'] < 4.0)                                 \n",
    "]"
   ]
  },
  {
   "cell_type": "code",
   "execution_count": null,
   "id": "cfad2cca-0c73-4d15-863a-a25cc6510b80",
   "metadata": {},
   "outputs": [],
   "source": []
  }
 ],
 "metadata": {
  "kernelspec": {
   "display_name": "Python 3 (ipykernel)",
   "language": "python",
   "name": "python3"
  },
  "language_info": {
   "codemirror_mode": {
    "name": "ipython",
    "version": 3
   },
   "file_extension": ".py",
   "mimetype": "text/x-python",
   "name": "python",
   "nbconvert_exporter": "python",
   "pygments_lexer": "ipython3",
   "version": "3.13.3"
  }
 },
 "nbformat": 4,
 "nbformat_minor": 5
}
